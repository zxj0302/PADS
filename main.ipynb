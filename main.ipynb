{
 "cells": [
  {
   "cell_type": "code",
   "execution_count": 1,
   "id": "initial_id",
   "metadata": {
    "ExecuteTime": {
     "end_time": "2025-03-20T09:12:50.458203Z",
     "start_time": "2025-03-20T09:12:43.272883Z"
    },
    "collapsed": true
   },
   "outputs": [],
   "source": [
    "%load_ext autoreload\n",
    "%autoreload 2\n",
    "from src import run_exp, statistics, get_graph, split_pos_neg, label_propagation\n",
    "import networkx as nx\n",
    "import pandas as pd\n",
    "from pytorch_lightning import seed_everything\n",
    "import os\n",
    "os.environ['KMP_DUPLICATE_LIB_OK'] = 'TRUE'"
   ]
  },
  {
   "cell_type": "code",
   "execution_count": 2,
   "id": "198b0dd65c670c5e",
   "metadata": {
    "ExecuteTime": {
     "end_time": "2025-03-21T03:22:48.543279Z",
     "start_time": "2025-03-21T03:22:48.537029Z"
    },
    "collapsed": false
   },
   "outputs": [
    {
     "name": "stderr",
     "output_type": "stream",
     "text": [
      "Seed set to 20010302\n"
     ]
    },
    {
     "data": {
      "text/plain": [
       "20010302"
      ]
     },
     "execution_count": 2,
     "metadata": {},
     "output_type": "execute_result"
    }
   ],
   "source": [
    "# baseline_methods = ['metis', 'louvain', 'eva', 'maxflow_cpp_unweighted', 'maxflow_cpp_weighted', 'gnn', 'pads_cpp']\n",
    "baseline_methods = ['maxflow_cpp_weighted', 'neg_dsd_cpp', 'gnn', 'pads_cpp']#, 'pads_python_3k_2k', 'pads_python_4k_3k']\n",
    "datasets = ['Abortion', 'Brexit', 'Election', 'Gun', 'Partisanship', 'Referendum_']\n",
    "seed_everything(20010302)"
   ]
  },
  {
   "cell_type": "code",
   "execution_count": 15,
   "id": "82a113001aa28b17",
   "metadata": {
    "ExecuteTime": {
     "end_time": "2025-03-21T03:14:31.674374Z",
     "start_time": "2025-03-21T03:08:38.827504Z"
    }
   },
   "outputs": [
    {
     "name": "stdout",
     "output_type": "stream",
     "text": [
      "===Dataset Brexit===\n",
      "maxflow_cpp_weighted Finished! Time taken: 0.493\n",
      "neg_dsd_cpp Finished! Time taken: 0.019993\n",
      "pads_python Finished! Time taken: 1.355\n",
      "pads_cpp Finished! Time taken: 0.009636\n",
      "[('cascade', 3), ('maxflow_cpp_wdsp', 1), ('neg_dsd', 1), ('pads_python', 1), ('pads_cpp', 1)]\n",
      "[('cascade', 6), ('maxflow_cpp_wdsp', -1), ('neg_dsd', -1), ('pads_python', -1), ('pads_cpp', -1)]\n",
      "             method  num_nodes  num_edges purity(var) conductance  \\\n",
      "0           cascade       4423    63853.5     0.40819     0.07499   \n",
      "1  maxflow_cpp_wdsp        389    17207.0     0.03291     0.50850   \n",
      "2           neg_dsd        388    17350.0     0.03583     0.50857   \n",
      "3       pads_python        398    17758.5     0.03559     0.50213   \n",
      "4          pads_cpp        399    17803.5     0.03550     0.50131   \n",
      "\n",
      "  avg_node_polarity unweighted_density weighted_density  EI-Index  \n",
      "0           0.47996           14.43669          7.84296  -0.85002  \n",
      "1           0.64549           44.23393         27.76936  -0.98942  \n",
      "2           0.64456           44.71649         27.85064  -0.98917  \n",
      "3           0.64688           44.61935         27.84960  -0.99109  \n",
      "4           0.64689           44.62030         27.84931  -0.99111  \n",
      "             method  num_nodes  num_edges purity(var) conductance  \\\n",
      "0           cascade       3166    26337.0     0.48054     0.16426   \n",
      "1  maxflow_cpp_wdsp        153     2906.5     0.02959     0.62319   \n",
      "2           neg_dsd        151     2861.0     0.02853     0.62921   \n",
      "3       pads_python        139     2577.5     0.02386     0.63718   \n",
      "4          pads_cpp        140     2602.5     0.02433     0.63451   \n",
      "\n",
      "  avg_node_polarity unweighted_density weighted_density  EI-Index  \n",
      "0          -0.43945            8.31870         -3.48162  -0.67147  \n",
      "1          -0.70843           18.99673        -13.35989  -0.93896  \n",
      "2          -0.71071           18.94702        -13.35828  -0.93605  \n",
      "3          -0.72998           18.54317        -13.33200  -0.94016  \n",
      "4          -0.72782           18.58929        -13.33782  -0.94072  \n"
     ]
    }
   ],
   "source": [
    "theta = 0.5\n",
    "for d in datasets[1:2]:\n",
    "    print(f\"===Dataset {d}===\")\n",
    "    G = get_graph(d)\n",
    "    # split_pos_neg(G, f'input/datasets/static/{d}', 500)\n",
    "    timer = {}\n",
    "    for method in ['maxflow_cpp_weighted', 'neg_dsd_cpp', 'pads_python', 'pads_cpp']:\n",
    "        if method.startswith('pads_python_'):\n",
    "            parts = method.split('_')\n",
    "            if len(parts) == 4:\n",
    "                size1 = int(parts[2].replace('k', '000'))\n",
    "                size2 = int(parts[3].replace('k', '000'))\n",
    "                timer[method], rst = run_exp(G, 'pads_python', dataset=d, theta=theta,\n",
    "                                           size_ub=(size1, size2), attr_name=method)\n",
    "        else:\n",
    "            timer[method], rst = run_exp(G, method, dataset=d, theta=theta)\n",
    "        print(f\"{method} Finished! Time taken: {timer[method]}\")\n",
    "\n",
    "    # G = label_propagation(G, attr_name='pads_cpp', new_attr='pads_cpp_lp', threshold=0.7)\n",
    "\n",
    "    if not os.path.exists(f'output/results-theta={theta}/{d}/'):\n",
    "        os.makedirs(f'output/results-theta={theta}/{d}/')\n",
    "    nx.write_gml(G, f'output/results-theta={theta}/{d}/graph.gml')\n",
    "    pd.DataFrame(timer.items(), columns=['method', 'time']).to_csv(f'output/results-theta={theta}/{d}/time.csv')\n",
    "\n",
    "    df_pos, df_neg = statistics(G, f'output/results-theta={theta}/{d}')\n",
    "    print(df_pos)\n",
    "    print(df_neg)"
   ]
  }
 ],
 "metadata": {
  "kernelspec": {
   "display_name": "ECD",
   "language": "python",
   "name": "python3"
  },
  "language_info": {
   "codemirror_mode": {
    "name": "ipython",
    "version": 3
   },
   "file_extension": ".py",
   "mimetype": "text/x-python",
   "name": "python",
   "nbconvert_exporter": "python",
   "pygments_lexer": "ipython3",
   "version": "3.12.7"
  }
 },
 "nbformat": 4,
 "nbformat_minor": 5
}
