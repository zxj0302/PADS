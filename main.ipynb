{
 "cells": [
  {
   "cell_type": "code",
   "id": "initial_id",
   "metadata": {
    "collapsed": true,
    "ExecuteTime": {
     "end_time": "2025-03-20T09:12:50.458203Z",
     "start_time": "2025-03-20T09:12:43.272883Z"
    }
   },
   "source": [
    "from src import run_exp, statistics, get_graph, split_pos_neg\n",
    "import networkx as nx\n",
    "import pandas as pd\n",
    "from pytorch_lightning import seed_everything\n",
    "import os\n",
    "os.environ['KMP_DUPLICATE_LIB_OK'] = 'TRUE'"
   ],
   "outputs": [],
   "execution_count": 1
  },
  {
   "cell_type": "code",
   "id": "198b0dd65c670c5e",
   "metadata": {
    "collapsed": false,
    "ExecuteTime": {
     "end_time": "2025-03-21T03:22:48.543279Z",
     "start_time": "2025-03-21T03:22:48.537029Z"
    }
   },
   "source": [
    "baseline_methods = ['metis', 'louvain', 'eva', 'maxflow_cpp_unweighted', 'maxflow_cpp_weighted', 'gnn', 'pads_cpp']\n",
    "datasets = ['Abortion', 'Brexit', 'Election', 'Gun', 'Partisanship', 'Referendum_']\n",
    "seed_everything(999)"
   ],
   "outputs": [
    {
     "name": "stderr",
     "output_type": "stream",
     "text": [
      "Seed set to 999\n"
     ]
    },
    {
     "data": {
      "text/plain": [
       "999"
      ]
     },
     "execution_count": 25,
     "metadata": {},
     "output_type": "execute_result"
    }
   ],
   "execution_count": 25
  },
  {
   "cell_type": "code",
   "id": "82a113001aa28b17",
   "metadata": {
    "ExecuteTime": {
     "end_time": "2025-03-21T03:14:31.674374Z",
     "start_time": "2025-03-21T03:08:38.827504Z"
    }
   },
   "source": [
    "theta = 0.3\n",
    "for d in datasets[-1:]:\n",
    "    print(f\"===Dataset {d}===\")\n",
    "    G = get_graph(d)\n",
    "    split_pos_neg(G, f'input/datasets/static/{d}', 500)\n",
    "    timer = {}\n",
    "    for method in baseline_methods[-4:]:\n",
    "        timer[method], rst = run_exp(G, method, dataset=d, theta=theta)\n",
    "        print(f\"{method} Finished! Time taken: {timer[method]}\")\n",
    "    if not os.path.exists(f'output/results-theta={theta}/{d}/'):\n",
    "        os.makedirs(f'output/results-theta={theta}/{d}/')\n",
    "    nx.write_gml(G, f'output/results-theta={theta}/{d}/graph.gml')\n",
    "    pd.DataFrame(timer.items(), columns=['method', 'time']).to_csv(f'output/results-theta={theta}/{d}/time.csv')\n",
    "\n",
    "    df_pos, df_neg = statistics(G, d, f'output/results-theta={theta}/{d}')\n",
    "    print(df_pos)\n",
    "    print(df_neg)"
   ],
   "outputs": [
    {
     "name": "stdout",
     "output_type": "stream",
     "text": [
      "===Dataset Referendum_===\n",
      "maxflow_cpp_unweighted Finished! Time taken: 0.369\n",
      "maxflow_cpp_weighted Finished! Time taken: 0.302\n"
     ]
    },
    {
     "data": {
      "text/plain": [
       "Computing transition probabilities:   0%|          | 0/2894 [00:00<?, ?it/s]"
      ],
      "application/vnd.jupyter.widget-view+json": {
       "version_major": 2,
       "version_minor": 0,
       "model_id": "fac841893ecb4254920efe3aec0e46b6"
      }
     },
     "metadata": {},
     "output_type": "display_data"
    },
    {
     "data": {
      "text/plain": [
       "Training: |          | 0/? [00:00<?, ?it/s]"
      ],
      "application/vnd.jupyter.widget-view+json": {
       "version_major": 2,
       "version_minor": 0,
       "model_id": "01b1b7d37abf4dcba11c2e178412c0aa"
      }
     },
     "metadata": {},
     "output_type": "display_data"
    },
    {
     "data": {
      "text/plain": [
       "Training: |          | 0/? [00:00<?, ?it/s]"
      ],
      "application/vnd.jupyter.widget-view+json": {
       "version_major": 2,
       "version_minor": 0,
       "model_id": "5fca70a98d564c70b3e113855cc19771"
      }
     },
     "metadata": {},
     "output_type": "display_data"
    },
    {
     "name": "stdout",
     "output_type": "stream",
     "text": [
      "gnn Finished! Time taken: 347.732\n",
      "pads_cpp Finished! Time taken: 0.005719\n",
      "             method  num_nodes  num_edges purity(var) conductance  \\\n",
      "0           cascade       1244    12823.0     0.50755     0.57564   \n",
      "1  maxflow_cpp_udsp        144     3897.5     0.03388     0.36336   \n",
      "2  maxflow_cpp_wdsp        155     4078.0     0.02669     0.34537   \n",
      "3      node2vec_gin        129     3514.5     0.05829     0.40240   \n",
      "4          pads_cpp        129     3355.5     0.02124     0.40820   \n",
      "\n",
      "  avg_node_polarity unweighted_density weighted_density  \n",
      "0          -0.58104           10.30788         -7.76095  \n",
      "1           0.63441           27.06597         17.38218  \n",
      "2           0.67669           26.30968         17.56793  \n",
      "3           0.61589           27.24419         16.96009  \n",
      "4           0.68736           26.01163         17.64171  \n",
      "             method  num_nodes  num_edges purity(var) conductance  \\\n",
      "0           cascade       1650    23792.0     0.43769     0.42233   \n",
      "1  maxflow_cpp_udsp        402    23754.0     0.00051     0.39123   \n",
      "2  maxflow_cpp_wdsp        400    23635.0     0.00051     0.39302   \n",
      "3      node2vec_gin        392    23136.0     0.00051     0.40072   \n",
      "4          pads_cpp        401    23694.5     0.00051     0.39213   \n",
      "\n",
      "  avg_node_polarity unweighted_density weighted_density  \n",
      "0          -0.64460           14.41939        -11.59090  \n",
      "1          -0.98545           59.08955        -58.30557  \n",
      "2          -0.98555           59.08750        -58.30672  \n",
      "3          -0.98561           59.02041        -58.24213  \n",
      "4          -0.98553           59.08853        -58.30697  \n"
     ]
    }
   ],
   "execution_count": 24
  }
 ],
 "metadata": {
  "kernelspec": {
   "display_name": "ECD",
   "language": "python",
   "name": "python3"
  },
  "language_info": {
   "codemirror_mode": {
    "name": "ipython",
    "version": 3
   },
   "file_extension": ".py",
   "mimetype": "text/x-python",
   "name": "python",
   "nbconvert_exporter": "python",
   "pygments_lexer": "ipython3",
   "version": "3.12.7"
  }
 },
 "nbformat": 4,
 "nbformat_minor": 5
}
