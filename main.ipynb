{
 "cells": [
  {
   "cell_type": "code",
   "id": "initial_id",
   "metadata": {
    "collapsed": true
   },
   "source": [
    "from src import run_exp, statistics, get_graph, split_pos_neg\n",
    "import networkx as nx\n",
    "import pandas as pd\n",
    "from pytorch_lightning import seed_everything"
   ],
   "outputs": [],
   "execution_count": null
  },
  {
   "cell_type": "code",
   "id": "198b0dd65c670c5e",
   "metadata": {
    "collapsed": false
   },
   "source": [
    "baseline_methods = ['metis', 'louvain', 'eva', 'maxflow_cpp_unweighted', 'maxflow_cpp_weighted', 'gnn', 'pads_python']\n",
    "datasets = ['Abortion', 'Brexit', 'Election', 'Gun', 'Partisanship', 'Referendum_']\n",
    "seed_everything(20010302)"
   ],
   "outputs": [],
   "execution_count": null
  },
  {
   "metadata": {},
   "cell_type": "code",
   "source": [
    "for d in datasets[:1]:\n",
    "    print(f\"===Dataset {d}===\")\n",
    "    G = get_graph(d)\n",
    "    # split_pos_neg(G, f'Datasets/Static/{d}', 500)\n",
    "    timer = {}\n",
    "    for method in ['metis', 'louvain', 'eva', 'maxflow_cpp_unweighted', 'maxflow_cpp_weighted', 'gnn', 'pads_cpp']:\n",
    "        timer[method], rst = run_exp(G, method, dataset=d)\n",
    "        print(f\"{method} Finished! Time taken: {timer[method]}\")\n",
    "    nx.write_gml(G, f'Output/{d}/graph.gml')\n",
    "    pd.DataFrame(timer.items(), columns=['method', 'time']).to_csv(f'Output/{d}/time.csv')\n",
    "\n",
    "    df_pos, df_neg = statistics(G, d)\n",
    "    print(df_pos)\n",
    "    print(df_neg)"
   ],
   "id": "82a113001aa28b17",
   "outputs": [],
   "execution_count": null
  }
 ],
 "metadata": {
  "kernelspec": {
   "display_name": "ECC",
   "language": "python",
   "name": "python3"
  },
  "language_info": {
   "codemirror_mode": {
    "name": "ipython",
    "version": 3
   },
   "file_extension": ".py",
   "mimetype": "text/x-python",
   "name": "python",
   "nbconvert_exporter": "python",
   "pygments_lexer": "ipython3",
   "version": "3.11.11"
  }
 },
 "nbformat": 4,
 "nbformat_minor": 5
}
