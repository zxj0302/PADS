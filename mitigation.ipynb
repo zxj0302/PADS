{
 "cells": [
  {
   "cell_type": "code",
   "execution_count": 1,
   "metadata": {},
   "outputs": [],
   "source": [
    "import sys\n",
    "import os\n",
    "\n",
    "# Add project root to Python path\n",
    "project_root = os.path.abspath('.')\n",
    "sys.path.append(project_root)\n",
    "\n",
    "# Add Related_Reps directory to Python path\n",
    "related_reps_path = os.path.join(project_root, 'Related_Reps')\n",
    "sys.path.append(related_reps_path)\n",
    "\n",
    "# Add RepBublik directory to Python path\n",
    "repbublik_path = os.path.join(related_reps_path, 'RePBubLik', 'RepBublik')\n",
    "sys.path.append(repbublik_path)\n",
    "\n",
    "%load_ext autoreload\n",
    "%autoreload 2\n",
    "from src.mitigation import MitigationComparison, MitigationStrategy, MitigationMeasurement\n",
    "from src.opinion_dynamics import OpinionDynamics\n"
   ]
  },
  {
   "cell_type": "code",
   "execution_count": 11,
   "metadata": {},
   "outputs": [
    {
     "name": "stdout",
     "output_type": "stream",
     "text": [
      "Graph is not connected, adding edges to connect the components\n",
      "The graph is connected now\n"
     ]
    }
   ],
   "source": [
    "strategies = ['A_CD', 'A_RL+', 'A_ROV', 'AW_P', 'R_WCR', 'R_O']\n",
    "# strategies = ['AW_P']\n",
    "graph_file = 'output/results-theta=0.5/Referendum_/graph.gml'\n",
    "MC = MitigationComparison(graph_file=graph_file, num_edges=1000, strategies=strategies)\n",
    "perc_rb = 0.1\n",
    "ratio = 100"
   ]
  },
  {
   "cell_type": "code",
   "execution_count": 12,
   "metadata": {},
   "outputs": [
    {
     "name": "stdout",
     "output_type": "stream",
     "text": [
      "Adding A_CD with 1000 edges\n",
      "Adding A_RL+ with 1000 edges\n",
      "Adding A_ROV with 1000 edges\n",
      "Adding AW_P with 1000 edges\n",
      "Reweighting R_WCR with 1000 edges\n",
      "Reweighting R_O with 1000 edges\n",
      "Adding AW_MU with 1000 edges\n",
      "Adding AW_MW with 1000 edges\n",
      "Adding AW_G with 1000 edges\n"
     ]
    }
   ],
   "source": [
    "result = MC.generate_strategies(perc_rb=perc_rb, ratio=ratio)"
   ]
  },
  {
   "cell_type": "code",
   "execution_count": 13,
   "metadata": {},
   "outputs": [
    {
     "name": "stdout",
     "output_type": "stream",
     "text": [
      "Processing:  A_CD\n",
      "Computing variance for  A_CD\n",
      "Computing controversy for  A_CD\n",
      "Computing rwc for  A_CD\n",
      "Computing ged for  A_CD\n",
      "Processing:  A_RL+\n",
      "Computing variance for  A_RL+\n",
      "Computing controversy for  A_RL+\n",
      "Computing rwc for  A_RL+\n",
      "Computing ged for  A_RL+\n",
      "Processing:  A_ROV\n",
      "Computing variance for  A_ROV\n",
      "Computing controversy for  A_ROV\n",
      "Computing rwc for  A_ROV\n",
      "Computing ged for  A_ROV\n",
      "Processing:  AW_P\n",
      "Computing variance for  AW_P\n",
      "Computing controversy for  AW_P\n",
      "Computing rwc for  AW_P\n",
      "Computing ged for  AW_P\n",
      "Processing:  R_WCR\n",
      "Computing variance for  R_WCR\n",
      "Computing controversy for  R_WCR\n",
      "Computing rwc for  R_WCR\n",
      "Computing ged for  R_WCR\n",
      "Processing:  R_O\n",
      "Computing variance for  R_O\n",
      "Computing controversy for  R_O\n",
      "Computing rwc for  R_O\n",
      "Computing ged for  R_O\n",
      "Processing:  AW_MU\n",
      "Computing variance for  AW_MU\n",
      "Computing controversy for  AW_MU\n",
      "Computing rwc for  AW_MU\n",
      "Computing ged for  AW_MU\n",
      "Processing:  AW_MW\n",
      "Computing variance for  AW_MW\n",
      "Computing controversy for  AW_MW\n",
      "Computing rwc for  AW_MW\n",
      "Computing ged for  AW_MW\n",
      "Processing:  AW_G\n",
      "Computing variance for  AW_G\n",
      "Computing controversy for  AW_G\n",
      "Computing rwc for  AW_G\n",
      "Computing ged for  AW_G\n"
     ]
    }
   ],
   "source": [
    "ops = {}\n",
    "metrics = {}\n",
    "\n",
    "for s in strategies:\n",
    "    print('Processing: ', s)\n",
    "    G = MC.get_graph().copy()\n",
    "    new_edges = []\n",
    "    new_weights = {}\n",
    "    if s[0] == 'R':\n",
    "        new_weights = result[s]['new_weights']\n",
    "        new_edges = list(new_weights.keys())\n",
    "    elif s[0] == 'A':\n",
    "        new_edges = result[s]['new_edges']\n",
    "        # convert items in new_edges to tuple\n",
    "        new_edges = [tuple(edge) for edge in new_edges]\n",
    "        new_weights = {edge: 1 for edge in new_edges}\n",
    "\n",
    "    # Create a new graph with the same nodes as the original graph\n",
    "    op_dynamics = OpinionDynamics(G)\n",
    "    ops[s] = op_dynamics.run(model='friedkin_johnsen_simplified_matrix', add_connections=new_edges, reweight=new_weights)\n",
    "\n",
    "    MM_s = MitigationMeasurement(G)\n",
    "    G.add_edges_from(new_edges)\n",
    "    MM_t = MitigationMeasurement(G, ops[s][-1])\n",
    "\n",
    "    metrics[s] = {}\n",
    "    print('Computing variance for ', s)\n",
    "    metrics[s]['var'] = [MM_s.opinion_variance(), MM_t.opinion_variance()]\n",
    "    print('Computing controversy for ', s)\n",
    "    metrics[s]['controversy'] = [MM_s.opinion_controversy(), MM_t.opinion_controversy()]\n",
    "    print('Computing rwc for ', s)\n",
    "    # Note: cannot use MM_t for rwc, as it will label red and blue nodes based on the final state\n",
    "    metrics[s]['rwc'] = [MM_s.rwc(perc_rb=perc_rb), MM_s.rwc(perc_rb=perc_rb, add_edges=new_edges)]\n",
    "    print('Computing ged for ', s)\n",
    "    # Note: for ged, we don't apply the opinion changes, only quantify the new_edges' effect\n",
    "    MM_t = MitigationMeasurement(G)\n",
    "    metrics[s]['ged'] = [MM_s.ged(), MM_t.ged()]"
   ]
  },
  {
   "cell_type": "code",
   "execution_count": 14,
   "metadata": {},
   "outputs": [
    {
     "name": "stdout",
     "output_type": "stream",
     "text": [
      "|             | A_CD            | A_RL+           | A_ROV           | AW_P            | R_WCR           | R_O              | AW_MU           | AW_MW          | AW_G           |\n",
      "|:------------|:----------------|:----------------|:----------------|:----------------|:----------------|:-----------------|:----------------|:---------------|:---------------|\n",
      "| var         | [0.469, 0.043]  | [0.469, 0.214]  | [0.469, 0.091]  | [0.469, 0.079]  | [0.469, 0.227]  | [0.469, 0.271]   | [0.469, 0.081]  | [0.469, 0.079] | [0.469, 0.088] |\n",
      "| controversy | [0.85, 0.425]   | [0.85, 0.595]   | [0.85, 0.472]   | [0.85, 0.46]    | [0.85, 0.608]   | [0.85, 0.652]    | [0.85, 0.462]   | [0.85, 0.46]   | [0.85, 0.469]  |\n",
      "| rwc         | [0.59, 0.324]   | [0.59, 0.525]   | [0.59, 0.368]   | [0.59, 0.338]   | [0.59, 0.546]   | [0.59, 0.59]     | [0.59, 0.343]   | [0.59, 0.337]  | [0.59, 0.356]  |\n",
      "| ged         | [10.012, 6.394] | [10.012, 9.137] | [10.012, 7.493] | [10.012, 7.212] | [10.012, 8.891] | [10.012, 10.012] | [10.012, 7.213] | [10.012, 7.2]  | [10.012, 6.29] |\n"
     ]
    }
   ],
   "source": [
    "import pandas as pd\n",
    "\n",
    "# Create a DataFrame from the metrics dictionary\n",
    "df = pd.DataFrame(metrics)\n",
    "# Convert all values in the DataFrame to round(3) floats\n",
    "# if it is a list, convert items in it to round(3) values\n",
    "for col in df.columns:\n",
    "    if df[col].apply(lambda x: isinstance(x, list)).any():\n",
    "        df[col] = df[col].apply(lambda x: [round(item, 3) for item in x])\n",
    "\n",
    "# Create a table with the metrics\n",
    "table = df.to_markdown()\n",
    "print(table)"
   ]
  },
  {
   "cell_type": "code",
   "execution_count": 15,
   "metadata": {},
   "outputs": [],
   "source": [
    "# # for all s in instrategies, there are a list of two dicts in ops[s]\n",
    "# # each dict is a map from node id to opinion value\n",
    "# # dict 0 is for the initial state, dict 1 is for the final state\n",
    "# # draw a heatmap for the change of opinion values between the two dicts\n",
    "# # x-axis as the initial opinion, y-axis as the final opinion\n",
    "# # the value of the heatmap is the count of the opinion changes from x to y\n",
    "# # use log scale for the value of the heatmap\n",
    "\n",
    "# import numpy as np\n",
    "# import matplotlib.pyplot as plt\n",
    "# from matplotlib.colors import LogNorm\n",
    "\n",
    "# # Create a figure with subplots for each strategy\n",
    "# fig, axes = plt.subplots(2, 3, figsize=(12, 6))\n",
    "# axes = axes.flatten()\n",
    "\n",
    "# # For each strategy\n",
    "# for idx, s in enumerate(strategies):\n",
    "#     # Get initial and final opinions\n",
    "#     initial_ops = list(ops[s][0].values())\n",
    "#     final_ops = list(ops[s][1].values())\n",
    "    \n",
    "#     # Create bins for the heatmap\n",
    "#     bins = np.linspace(-1, 1, 21)  # 20 bins from -1 to 1\n",
    "    \n",
    "#     # Create 2D histogram\n",
    "#     H, xedges, yedges = np.histogram2d(initial_ops, final_ops, bins=[bins, bins])\n",
    "    \n",
    "#     # Plot heatmap\n",
    "#     im = axes[idx].imshow(H.T, origin='lower', extent=[-1, 1, -1, 1],\n",
    "#                          aspect='auto', cmap='viridis', norm=LogNorm())\n",
    "    \n",
    "#     # Add colorbar\n",
    "#     plt.colorbar(im, ax=axes[idx])\n",
    "    \n",
    "#     # Add labels and title\n",
    "#     axes[idx].set_xlabel('Initial Opinion')\n",
    "#     axes[idx].set_ylabel('Final Opinion')\n",
    "#     axes[idx].set_title(s)\n",
    "    \n",
    "#     # Add diagonal line\n",
    "#     axes[idx].plot([-1, 1], [-1, 1], 'r--', alpha=0.5)\n",
    "\n",
    "# plt.tight_layout()\n",
    "# plt.show()"
   ]
  }
 ],
 "metadata": {
  "kernelspec": {
   "display_name": "ECD",
   "language": "python",
   "name": "python3"
  },
  "language_info": {
   "codemirror_mode": {
    "name": "ipython",
    "version": 3
   },
   "file_extension": ".py",
   "mimetype": "text/x-python",
   "name": "python",
   "nbconvert_exporter": "python",
   "pygments_lexer": "ipython3",
   "version": "3.12.7"
  }
 },
 "nbformat": 4,
 "nbformat_minor": 2
}
