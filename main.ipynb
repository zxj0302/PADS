{
 "cells": [
  {
   "cell_type": "code",
   "id": "initial_id",
   "metadata": {
    "collapsed": true,
    "ExecuteTime": {
     "end_time": "2024-12-29T10:09:04.939183Z",
     "start_time": "2024-12-29T10:08:57.994146Z"
    }
   },
   "source": [
    "from src import run_exp, statistics, get_graph\n",
    "import networkx as nx\n",
    "import pandas as pd\n",
    "from pytorch_lightning import seed_everything"
   ],
   "outputs": [],
   "execution_count": 1
  },
  {
   "cell_type": "code",
   "id": "198b0dd65c670c5e",
   "metadata": {
    "collapsed": false,
    "ExecuteTime": {
     "end_time": "2024-12-29T10:09:04.960362Z",
     "start_time": "2024-12-29T10:09:04.944069Z"
    }
   },
   "source": [
    "baseline_methods = ['metis', 'louvain', 'eva', 'maxflow', 'flowless', 'my_gnn', 'my_greedy']\n",
    "datasets = ['Brexit', 'Referendum_', 'Gun', 'Abortion', 'Election', 'Partisanship']\n",
    "seed_everything(20010302)"
   ],
   "outputs": [
    {
     "name": "stderr",
     "output_type": "stream",
     "text": [
      "Seed set to 20010302\n"
     ]
    },
    {
     "data": {
      "text/plain": [
       "20010302"
      ]
     },
     "execution_count": 2,
     "metadata": {},
     "output_type": "execute_result"
    }
   ],
   "execution_count": 2
  },
  {
   "metadata": {
    "ExecuteTime": {
     "end_time": "2024-12-29T16:41:49.510205Z",
     "start_time": "2024-12-29T16:22:24.492327Z"
    }
   },
   "cell_type": "code",
   "source": [
    "for d in datasets[:-2]:\n",
    "    print(f\"===Dataset {d}===\")\n",
    "    G = get_graph(d)\n",
    "    timer = {}\n",
    "    for method in baseline_methods:\n",
    "        run_exp(G, method, timer)\n",
    "        print(f\"{method} Finished! Time taken: {timer[method]}\")\n",
    "    nx.write_gml(G, f'Output/{d}/graph.gml')\n",
    "    pd.DataFrame(timer.items(), columns=['method', 'time']).to_csv(f'Output/{d}/time.csv')\n",
    "\n",
    "    df_pos, df_neg = statistics(G, d)\n",
    "    print(df_pos)\n",
    "    print(df_neg)"
   ],
   "id": "82a113001aa28b17",
   "outputs": [
    {
     "name": "stdout",
     "output_type": "stream",
     "text": [
      "===Dataset Brexit===\n",
      "metis Finished! Time taken: 0.1\n",
      "louvain Finished! Time taken: 2.596\n",
      "eva Finished! Time taken: 124.713\n",
      "maxflow Finished! Time taken: 146.48\n",
      "flowless Finished! Time taken: 10.412\n"
     ]
    },
    {
     "data": {
      "text/plain": [
       "Computing transition probabilities:   0%|          | 0/7589 [00:00<?, ?it/s]"
      ],
      "application/vnd.jupyter.widget-view+json": {
       "version_major": 2,
       "version_minor": 0,
       "model_id": "a321267d4ca4469ab1e5e452cb3e5915"
      }
     },
     "metadata": {},
     "output_type": "display_data"
    },
    {
     "data": {
      "text/plain": [
       "Training: |          | 0/? [00:00<?, ?it/s]"
      ],
      "application/vnd.jupyter.widget-view+json": {
       "version_major": 2,
       "version_minor": 0,
       "model_id": "5592bd00046441d79bcfbc2dd58112f5"
      }
     },
     "metadata": {},
     "output_type": "display_data"
    },
    {
     "data": {
      "text/plain": [
       "Training: |          | 0/? [00:00<?, ?it/s]"
      ],
      "application/vnd.jupyter.widget-view+json": {
       "version_major": 2,
       "version_minor": 0,
       "model_id": "b128aa6376ab43659a0ecd069116528d"
      }
     },
     "metadata": {},
     "output_type": "display_data"
    },
    {
     "name": "stdout",
     "output_type": "stream",
     "text": [
      "my_gnn Finished! Time taken: 271.79\n",
      "my_greedy Finished! Time taken: 1.278\n",
      "     method  num_nodes  num_edges purity(var) conductance avg_node_polarity  \\\n",
      "0   cascade       4423    63853.5     0.40819     0.07499           0.47996   \n",
      "1     metis       3795    60763.0     0.33664     0.05003           0.54335   \n",
      "2   louvain       3570    57710.0     0.33004     0.06319           0.55123   \n",
      "3       eva       3265    55973.5     0.29583     0.07316           0.56638   \n",
      "4   maxflow        430    20260.0     0.05829     0.46747           0.56811   \n",
      "5  flowless        404    18308.5     0.04073     0.49379           0.59264   \n",
      "6       gnn        431    20240.0     0.06524     0.46711           0.56395   \n",
      "7       myg        400    17858.5     0.03551     0.50031           0.64621   \n",
      "\n",
      "  unweighted_density weighted_density  \n",
      "0           14.43669          7.84296  \n",
      "1           16.01133          8.87396  \n",
      "2           16.16527          9.03682  \n",
      "3           17.14349          9.61662  \n",
      "4           47.11628         26.78501  \n",
      "5           45.31807         27.04720  \n",
      "6           46.96056         26.56768  \n",
      "7           44.64625         27.85015  \n",
      "     method  num_nodes  num_edges purity(var) conductance avg_node_polarity  \\\n",
      "0   cascade       3166    26337.0     0.48054     0.16426          -0.43945   \n",
      "1     metis       3794    33380.5     0.55156     0.08748          -0.35067   \n",
      "2   louvain       2262    12526.5     0.46174     0.23310          -0.50726   \n",
      "3       eva       2262    12742.0     0.47709     0.23833          -0.48584   \n",
      "4   maxflow        347     7789.0     0.09215     0.56131          -0.50543   \n",
      "5  flowless        331     6897.5     0.07546     0.57379          -0.52491   \n",
      "6       gnn        156     3033.5     0.03929     0.61742          -0.66684   \n",
      "7       myg        145     2720.5     0.02570     0.62832          -0.71818   \n",
      "\n",
      "  unweighted_density weighted_density  \n",
      "0            8.31870         -3.48162  \n",
      "1            8.79823         -2.99573  \n",
      "2            5.53780         -3.30601  \n",
      "3            5.63307         -3.32463  \n",
      "4           22.44669        -10.95530  \n",
      "5           20.83837        -11.21864  \n",
      "6           19.44551        -13.13600  \n",
      "7           18.76207        -13.34904  \n",
      "===Dataset Referendum_===\n",
      "metis Finished! Time taken: 0.06\n",
      "louvain Finished! Time taken: 0.975\n",
      "eva Finished! Time taken: 27.884\n",
      "maxflow Finished! Time taken: 74.32\n",
      "flowless Finished! Time taken: 3.68\n"
     ]
    },
    {
     "data": {
      "text/plain": [
       "Computing transition probabilities:   0%|          | 0/2894 [00:00<?, ?it/s]"
      ],
      "application/vnd.jupyter.widget-view+json": {
       "version_major": 2,
       "version_minor": 0,
       "model_id": "3b4fd22166384c469dfebbdbf1e844cb"
      }
     },
     "metadata": {},
     "output_type": "display_data"
    },
    {
     "data": {
      "text/plain": [
       "Training: |          | 0/? [00:00<?, ?it/s]"
      ],
      "application/vnd.jupyter.widget-view+json": {
       "version_major": 2,
       "version_minor": 0,
       "model_id": "8d9ba62ee3594186b767d11a512e3041"
      }
     },
     "metadata": {},
     "output_type": "display_data"
    },
    {
     "data": {
      "text/plain": [
       "Training: |          | 0/? [00:00<?, ?it/s]"
      ],
      "application/vnd.jupyter.widget-view+json": {
       "version_major": 2,
       "version_minor": 0,
       "model_id": "195c6a7c62374a88bfd911aa0758a674"
      }
     },
     "metadata": {},
     "output_type": "display_data"
    },
    {
     "name": "stdout",
     "output_type": "stream",
     "text": [
      "my_gnn Finished! Time taken: 210.488\n",
      "my_greedy Finished! Time taken: 0.95\n",
      "     method  num_nodes  num_edges purity(var) conductance avg_node_polarity  \\\n",
      "0   cascade        783     8105.5     0.53594     0.35091           0.23201   \n",
      "1     metis       1446     9693.5     0.66409     0.25794          -0.25243   \n",
      "2   louvain        699     8895.0     0.26790     0.03473           0.47706   \n",
      "3       eva        651     8806.0     0.19188     0.03401           0.53051   \n",
      "4   maxflow        146     3985.5     0.05268     0.35640           0.61019   \n",
      "5  flowless        148     4004.5     0.03379     0.35344           0.63284   \n",
      "6       gnn        119     3202.5     0.05778     0.43031           0.60970   \n",
      "7       myg        128     3334.5     0.02064     0.41040           0.68492   \n",
      "\n",
      "  unweighted_density weighted_density  \n",
      "0           10.35185          5.90680  \n",
      "1            6.70367          3.12897  \n",
      "2           12.72532          7.38344  \n",
      "3           13.52688          7.94237  \n",
      "4           27.29795         17.08493  \n",
      "5           27.05743         17.35833  \n",
      "6           26.91176         16.69383  \n",
      "7           26.05078         17.64119  \n",
      "     method  num_nodes  num_edges purity(var) conductance avg_node_polarity  \\\n",
      "0   cascade       2111    54533.5     0.07700     0.07438          -0.93229   \n",
      "1     metis       1448    54970.5     0.00793     0.05776          -0.98162   \n",
      "2   louvain        828    21162.0     0.00418     0.32811          -0.98287   \n",
      "3       eva        819    20926.5     0.00308     0.33087          -0.98347   \n",
      "4   maxflow        399    23577.0     0.00051     0.39395          -0.98534   \n",
      "5  flowless        403    23812.5     0.00051     0.39039          -0.98538   \n",
      "6       gnn        390    23035.0     0.00052     0.40160          -0.98545   \n",
      "7       myg        401    23694.5     0.00051     0.39213          -0.98553   \n",
      "\n",
      "  unweighted_density weighted_density  \n",
      "0           25.83302        -25.38824  \n",
      "1           37.96305        -37.35036  \n",
      "2           25.55797        -25.23448  \n",
      "3           25.55128        -25.22537  \n",
      "4           59.09023        -58.30269  \n",
      "5           59.08809        -58.30175  \n",
      "6           59.06410        -58.28043  \n",
      "7           59.08853        -58.30697  \n",
      "===Dataset Gun===\n",
      "metis Finished! Time taken: 0.029\n",
      "louvain Finished! Time taken: 0.526\n",
      "eva Finished! Time taken: 82.14\n",
      "maxflow Finished! Time taken: 27.522\n",
      "flowless Finished! Time taken: 5.406\n"
     ]
    },
    {
     "data": {
      "text/plain": [
       "Computing transition probabilities:   0%|          | 0/6566 [00:00<?, ?it/s]"
      ],
      "application/vnd.jupyter.widget-view+json": {
       "version_major": 2,
       "version_minor": 0,
       "model_id": "0300890748b64225a2469b0db3417258"
      }
     },
     "metadata": {},
     "output_type": "display_data"
    },
    {
     "data": {
      "text/plain": [
       "Training: |          | 0/? [00:00<?, ?it/s]"
      ],
      "application/vnd.jupyter.widget-view+json": {
       "version_major": 2,
       "version_minor": 0,
       "model_id": "9761c6a85d8f4eee9c5654463aa3349c"
      }
     },
     "metadata": {},
     "output_type": "display_data"
    },
    {
     "data": {
      "text/plain": [
       "Training: |          | 0/? [00:00<?, ?it/s]"
      ],
      "application/vnd.jupyter.widget-view+json": {
       "version_major": 2,
       "version_minor": 0,
       "model_id": "abe32594ab964198a18c462d41174e54"
      }
     },
     "metadata": {},
     "output_type": "display_data"
    },
    {
     "name": "stdout",
     "output_type": "stream",
     "text": [
      "my_gnn Finished! Time taken: 49.831\n",
      "my_greedy Finished! Time taken: 0.176\n",
      "     method  num_nodes  num_edges purity(var) conductance avg_node_polarity  \\\n",
      "0     metis       3283     6130.0     0.19181     0.04769           0.32567   \n",
      "1   louvain       1136     2013.5     0.04347     0.18712           0.53327   \n",
      "2       eva       1427     2486.0     0.04589     0.15600           0.53794   \n",
      "3   maxflow         19       62.5     0.01633     0.67949           0.70288   \n",
      "4  flowless        447     1289.0     0.02292     0.50442           0.61780   \n",
      "5       gnn       2222     4830.0     0.03761     0.05350           0.53412   \n",
      "6       myg        116      327.0     0.01536     0.70313           0.69123   \n",
      "\n",
      "  unweighted_density weighted_density  \n",
      "0            1.86719          0.92816  \n",
      "1            1.77245          1.11494  \n",
      "2            1.74212          1.11330  \n",
      "3            3.28947          2.38962  \n",
      "4            2.88367          1.92931  \n",
      "5            2.17372          1.38750  \n",
      "6            2.81897          2.03398  \n",
      "     method  num_nodes  num_edges purity(var) conductance avg_node_polarity  \\\n",
      "0     metis       3283     7542.0     0.05127     0.03911          -0.61583   \n",
      "1   louvain        919     1461.0     0.06456     0.31004          -0.57258   \n",
      "2       eva        801     1842.5     0.03761     0.24379          -0.67529   \n",
      "3   maxflow         68      392.0     0.00765     0.57065          -0.84383   \n",
      "4  flowless         71      409.0     0.00748     0.55879          -0.84406   \n",
      "5       gnn       1166     3503.0     0.02239     0.37973          -0.71945   \n",
      "6       myg         67      385.0     0.00699     0.57388          -0.85001   \n",
      "\n",
      "  unweighted_density weighted_density  \n",
      "0            2.29729         -1.66761  \n",
      "1            1.58977         -1.03753  \n",
      "2            2.30025         -1.84842  \n",
      "3            5.76471         -4.97118  \n",
      "4            5.76056         -4.96954  \n",
      "5            3.00429         -2.34496  \n",
      "6            5.74627         -4.97770  \n",
      "===Dataset Abortion===\n",
      "metis Finished! Time taken: 0.02\n",
      "louvain Finished! Time taken: 0.405\n",
      "eva Finished! Time taken: 49.4\n",
      "maxflow Finished! Time taken: 22.06\n",
      "flowless Finished! Time taken: 3.388\n"
     ]
    },
    {
     "data": {
      "text/plain": [
       "Computing transition probabilities:   0%|          | 0/5087 [00:00<?, ?it/s]"
      ],
      "application/vnd.jupyter.widget-view+json": {
       "version_major": 2,
       "version_minor": 0,
       "model_id": "b74ad0aba0434fb39aaf31648fafc041"
      }
     },
     "metadata": {},
     "output_type": "display_data"
    },
    {
     "data": {
      "text/plain": [
       "Training: |          | 0/? [00:00<?, ?it/s]"
      ],
      "application/vnd.jupyter.widget-view+json": {
       "version_major": 2,
       "version_minor": 0,
       "model_id": "3a09392e15894d67b0536dd068fe7992"
      }
     },
     "metadata": {},
     "output_type": "display_data"
    },
    {
     "data": {
      "text/plain": [
       "Training: |          | 0/? [00:00<?, ?it/s]"
      ],
      "application/vnd.jupyter.widget-view+json": {
       "version_major": 2,
       "version_minor": 0,
       "model_id": "5dd750c7faea4cabaee5e81b1ae91a5d"
      }
     },
     "metadata": {},
     "output_type": "display_data"
    },
    {
     "name": "stdout",
     "output_type": "stream",
     "text": [
      "my_gnn Finished! Time taken: 41.956\n",
      "my_greedy Finished! Time taken: 0.166\n",
      "     method  num_nodes  num_edges purity(var) conductance avg_node_polarity  \\\n",
      "0     metis       2543     5359.5     0.07809     0.06122           0.41917   \n",
      "1   louvain        371      514.5     0.07944     0.38272           0.47939   \n",
      "2       eva        645      966.0     0.05958     0.31562           0.48796   \n",
      "3   maxflow         79      236.0     0.04423     0.65243           0.43565   \n",
      "4  flowless        328      957.5     0.03815     0.55079           0.61436   \n",
      "5       gnn       1350     3106.5     0.04842     0.30207           0.53304   \n",
      "6       myg        193      538.5     0.01906     0.67364           0.71196   \n",
      "\n",
      "  unweighted_density weighted_density  \n",
      "0            2.10755          1.17546  \n",
      "1            1.38679          0.85538  \n",
      "2            1.49767          0.93274  \n",
      "3            2.98734          1.46695  \n",
      "4            2.91921          1.89909  \n",
      "5            2.30111          1.48120  \n",
      "6            2.79016          2.02120  \n",
      "     method  num_nodes  num_edges purity(var) conductance avg_node_polarity  \\\n",
      "0     metis       2544     4485.5     0.10763     0.07229          -0.28199   \n",
      "1   louvain       1128     2198.5     0.04554     0.04121          -0.46740   \n",
      "2       eva       1078     2097.5     0.03698     0.03917          -0.48303   \n",
      "3   maxflow        179      438.0     0.02417     0.55260          -0.49577   \n",
      "4  flowless        224      540.5     0.02225     0.53020          -0.50488   \n",
      "5       gnn       1427     2519.5     0.04164     0.16268          -0.45809   \n",
      "6       myg        123      268.0     0.01695     0.61018          -0.59732   \n",
      "\n",
      "  unweighted_density weighted_density  \n",
      "0            1.76317         -0.57504  \n",
      "1            1.94902         -1.00962  \n",
      "2            1.94573         -1.03021  \n",
      "3            2.44693         -1.25888  \n",
      "4            2.41295         -1.25047  \n",
      "5            1.76559         -0.90084  \n",
      "6            2.17886         -1.28230  \n"
     ]
    }
   ],
   "execution_count": 9
  }
 ],
 "metadata": {
  "kernelspec": {
   "display_name": "ECC",
   "language": "python",
   "name": "python3"
  },
  "language_info": {
   "codemirror_mode": {
    "name": "ipython",
    "version": 3
   },
   "file_extension": ".py",
   "mimetype": "text/x-python",
   "name": "python",
   "nbconvert_exporter": "python",
   "pygments_lexer": "ipython3",
   "version": "3.11.11"
  }
 },
 "nbformat": 4,
 "nbformat_minor": 5
}
