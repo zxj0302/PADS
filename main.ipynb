{
 "cells": [
  {
   "cell_type": "code",
   "execution_count": 1,
   "id": "initial_id",
   "metadata": {
    "collapsed": true
   },
   "outputs": [],
   "source": [
    "from src import run_exp, statistics, get_graph, split_pos_neg\n",
    "import networkx as nx\n",
    "import pandas as pd\n",
    "from pytorch_lightning import seed_everything\n",
    "import os\n",
    "os.environ['KMP_DUPLICATE_LIB_OK'] = 'TRUE'"
   ]
  },
  {
   "cell_type": "code",
   "execution_count": null,
   "id": "198b0dd65c670c5e",
   "metadata": {
    "collapsed": false
   },
   "outputs": [
    {
     "name": "stderr",
     "output_type": "stream",
     "text": [
      "Seed set to 20010302\n"
     ]
    },
    {
     "data": {
      "text/plain": [
       "20010302"
      ]
     },
     "execution_count": 2,
     "metadata": {},
     "output_type": "execute_result"
    }
   ],
   "source": [
    "baseline_methods = ['metis', 'louvain', 'eva', 'maxflow_cpp_unweighted', 'maxflow_cpp_weighted', 'gnn', 'pads_cpp']\n",
    "datasets = ['Abortion', 'Brexit', 'Election', 'Gun', 'Partisanship', 'Referendum_']\n",
    "seed_everything(20010302)"
   ]
  },
  {
   "cell_type": "code",
   "execution_count": null,
   "id": "82a113001aa28b17",
   "metadata": {},
   "outputs": [
    {
     "name": "stdout",
     "output_type": "stream",
     "text": [
      "===Dataset Brexit===\n",
      "metis Finished! Time taken: 0.094\n",
      "louvain Finished! Time taken: 1.935\n",
      "eva Finished! Time taken: 149.521\n",
      "maxflow_cpp_unweighted Finished! Time taken: 0.603\n",
      "maxflow_cpp_weighted Finished! Time taken: 0.508\n"
     ]
    },
    {
     "data": {
      "application/vnd.jupyter.widget-view+json": {
       "model_id": "99dd46218d7c46ad8633143b0b3ad16b",
       "version_major": 2,
       "version_minor": 0
      },
      "text/plain": [
       "Computing transition probabilities:   0%|          | 0/7589 [00:00<?, ?it/s]"
      ]
     },
     "metadata": {},
     "output_type": "display_data"
    },
    {
     "data": {
      "application/vnd.jupyter.widget-view+json": {
       "model_id": "4512cfa357d242e8a7a03e8940a8fae7",
       "version_major": 2,
       "version_minor": 0
      },
      "text/plain": [
       "Training: |          | 0/? [00:00<?, ?it/s]"
      ]
     },
     "metadata": {},
     "output_type": "display_data"
    },
    {
     "data": {
      "application/vnd.jupyter.widget-view+json": {
       "model_id": "a1825b6fe21344769e17875b78c44721",
       "version_major": 2,
       "version_minor": 0
      },
      "text/plain": [
       "Training: |          | 0/? [00:00<?, ?it/s]"
      ]
     },
     "metadata": {},
     "output_type": "display_data"
    },
    {
     "name": "stdout",
     "output_type": "stream",
     "text": [
      "gnn Finished! Time taken: 347.302\n",
      "pads_cpp Finished! Time taken: 0.013522\n",
      "             method  num_nodes  num_edges purity(var) conductance  \\\n",
      "0           cascade       4423    63853.5     0.40819     0.07499   \n",
      "1             metis       3795    60763.0     0.33664     0.05003   \n",
      "2           louvain       3357    56147.0     0.30873     0.07137   \n",
      "3               eva       3198    55745.5     0.28266     0.07449   \n",
      "4  maxflow_cpp_udsp        403    18263.0     0.04081     0.49413   \n",
      "5  maxflow_cpp_wdsp        389    17207.0     0.03291     0.50850   \n",
      "6      node2vec_gin        396    18562.0     0.05700     0.49279   \n",
      "7          pads_cpp        392    17528.5     0.03574     0.50541   \n",
      "\n",
      "  avg_node_polarity unweighted_density weighted_density  \n",
      "0           0.47996           14.43669          7.84296  \n",
      "1           0.54335           16.01133          8.87396  \n",
      "2           0.56512           16.72535          9.37779  \n",
      "3           0.57136           17.43136          9.79630  \n",
      "4           0.59244           45.31762         27.04186  \n",
      "5           0.64549           44.23393         27.76936  \n",
      "6           0.57479           46.87374         26.77539  \n",
      "7           0.64452           44.71556         27.85117  \n",
      "             method  num_nodes  num_edges purity(var) conductance  \\\n",
      "0           cascade       3166    26337.0     0.48054     0.16426   \n",
      "1             metis       3794    33380.5     0.55156     0.08748   \n",
      "2           louvain       2421    13675.5     0.48984     0.22888   \n",
      "3               eva       2197    11838.5     0.46962     0.25068   \n",
      "4  maxflow_cpp_udsp        323     6732.0     0.07481     0.57933   \n",
      "5  maxflow_cpp_wdsp        153     2906.5     0.02959     0.62319   \n",
      "6      node2vec_gin        197     3860.5     0.05202     0.58940   \n",
      "7          pads_cpp        151     2861.0     0.02853     0.62921   \n",
      "\n",
      "  avg_node_polarity unweighted_density weighted_density  \n",
      "0          -0.43945            8.31870         -3.48162  \n",
      "1          -0.35067            8.79823         -2.99573  \n",
      "2          -0.47340            5.64870         -3.23264  \n",
      "3          -0.49994            5.38848         -3.21702  \n",
      "4          -0.52577           20.84211        -11.23655  \n",
      "5          -0.70843           18.99673        -13.35989  \n",
      "6          -0.65598           19.59645        -12.94254  \n",
      "7          -0.71071           18.94702        -13.35828  \n",
      "===Dataset Election===\n",
      "metis Finished! Time taken: 0.103\n",
      "louvain Finished! Time taken: 2.973\n"
     ]
    }
   ],
   "source": [
    "for d in datasets[1:]:\n",
    "    print(f\"===Dataset {d}===\")\n",
    "    G = get_graph(d)\n",
    "    split_pos_neg(G, f'input/datasets/static/{d}', 500)\n",
    "    timer = {}\n",
    "    for method in baseline_methods:\n",
    "        timer[method], rst = run_exp(G, method, dataset=d, theta=0.1)\n",
    "        print(f\"{method} Finished! Time taken: {timer[method]}\")\n",
    "    nx.write_gml(G, f'output/results/{d}/graph.gml')\n",
    "    pd.DataFrame(timer.items(), columns=['method', 'time']).to_csv(f'output/results/{d}/time.csv')\n",
    "\n",
    "    df_pos, df_neg = statistics(G, d, f'output/results/{d}')\n",
    "    print(df_pos)\n",
    "    print(df_neg)"
   ]
  }
 ],
 "metadata": {
  "kernelspec": {
   "display_name": "ECD",
   "language": "python",
   "name": "python3"
  },
  "language_info": {
   "codemirror_mode": {
    "name": "ipython",
    "version": 3
   },
   "file_extension": ".py",
   "mimetype": "text/x-python",
   "name": "python",
   "nbconvert_exporter": "python",
   "pygments_lexer": "ipython3",
   "version": "3.12.7"
  }
 },
 "nbformat": 4,
 "nbformat_minor": 5
}
